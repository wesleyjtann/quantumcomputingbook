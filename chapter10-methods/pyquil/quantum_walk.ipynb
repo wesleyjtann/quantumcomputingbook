{
 "cells": [
  {
   "cell_type": "code",
   "execution_count": 1,
   "metadata": {},
   "outputs": [],
   "source": [
    "import numpy as np\n",
    "import networkx as nx\n",
    "import matplotlib.pyplot as plt\n",
    "from scipy.linalg import expm\n",
    "# %matplotlib inline\n",
    "\n",
    "import pyquil.quil as pq\n",
    "import pyquil.api as api\n",
    "from pyquil.gates import H, X, CPHASE00\n",
    "# from pyquil import Program\n",
    "# from pyquil.gates import H, X, CPHASE00\n",
    "# from pyquil.api import WavefunctionSimulator"
   ]
  },
  {
   "cell_type": "markdown",
   "metadata": {},
   "source": [
    "Here we perform a continuous time quantum walk (CTQW) on a complete graph with four nodes (denoted as $K_4$). We will be following [this](https://www.nature.com/articles/ncomms11511) paper."
   ]
  },
  {
   "cell_type": "code",
   "execution_count": 2,
   "metadata": {},
   "outputs": [
    {
     "data": {
      "image/png": "[encoded data removed]",
      "text/plain": [
       "<Figure size 432x288 with 1 Axes>"
      ]
     },
     "metadata": {},
     "output_type": "display_data"
    }
   ],
   "source": [
    "# create a graph\n",
    "G = nx.complete_graph(4)\n",
    "nx.draw_networkx(G)"
   ]
  },
  {
   "cell_type": "markdown",
   "metadata": {},
   "source": [
    "The spectrum of complete graphs is quite simple -- one eigenvalue equal to $N-1$ (where $N$ is the number of nodes) and the remaining equal to -1:"
   ]
  },
  {
   "cell_type": "code",
   "execution_count": 3,
   "metadata": {},
   "outputs": [
    {
     "name": "stdout",
     "output_type": "stream",
     "text": [
      "Eigenvalues =  [-1. -1. -1.  3.]\n"
     ]
    }
   ],
   "source": [
    "# Diagonalize the adjacency matrix\n",
    "A = nx.adjacency_matrix(G).toarray()\n",
    "eigvals, _ = np.linalg.eigh(A)\n",
    "print(\"Eigenvalues = \", eigvals)"
   ]
  },
  {
   "cell_type": "markdown",
   "metadata": {},
   "source": [
    "For the CTQW the usual hamiltonian is the adjacency matrix $A$. We modify it slightly by adding the identity, i.e. we take $\\mathcal{H} = A + I$. This will reduce the number of gates we need to apply, since the eigenvectors with 0 eigenvalue will not acquire a phase."
   ]
  },
  {
   "cell_type": "code",
   "execution_count": 4,
   "metadata": {},
   "outputs": [],
   "source": [
    "# Get the Hamiltonian\n",
    "hamil = A + np.eye(4)"
   ]
  },
  {
   "cell_type": "markdown",
   "metadata": {},
   "source": [
    "It turns out that $K_n$ graphs are Hadamard diagonalizable, allowing us to write $\\mathcal{H} = Q \\Lambda Q^\\dagger$, where $Q = H \\otimes H$. Let's check that this works."
   ]
  },
  {
   "cell_type": "code",
   "execution_count": 5,
   "metadata": {},
   "outputs": [
    {
     "data": {
      "text/plain": [
       "array([[ 0.70710678,  0.70710678],\n",
       "       [ 0.70710678, -0.70710678]])"
      ]
     },
     "execution_count": 5,
     "metadata": {},
     "output_type": "execute_result"
    }
   ],
   "source": [
    "# Hadamard gate\n",
    "hgate = np.sqrt(1/2) * np.array([[1, 1], [1, -1]])\n",
    "# pauli_x = np.array([[0, 1], [1, 0]])\n",
    "hgate"
   ]
  },
  {
   "cell_type": "code",
   "execution_count": 6,
   "metadata": {},
   "outputs": [
    {
     "data": {
      "text/plain": [
       "array([[ 4.00000000e+00, -4.93038066e-32, -4.93038066e-32,\n",
       "         4.93038066e-32],\n",
       "       [ 0.00000000e+00,  0.00000000e+00,  0.00000000e+00,\n",
       "         0.00000000e+00],\n",
       "       [ 0.00000000e+00,  0.00000000e+00,  0.00000000e+00,\n",
       "         0.00000000e+00],\n",
       "       [ 0.00000000e+00,  0.00000000e+00,  0.00000000e+00,\n",
       "         0.00000000e+00]])"
      ]
     },
     "execution_count": 6,
     "metadata": {},
     "output_type": "execute_result"
    }
   ],
   "source": [
    "# Form the matrix Q = H \\otimes H to diagonalize the Hamiltonian\n",
    "Q = np.kron(hgate, hgate) # Kronecker product\n",
    "\n",
    "# complex conjugate, element-wise. The complex conjugate of a complex number is obtained by changing the sign of its imaginary part.\n",
    "Q.conj().T.dot(hamil).dot(Q)"
   ]
  },
  {
   "cell_type": "markdown",
   "metadata": {},
   "source": [
    "The time evolution operator $e^{-iHt}$ is also diagonalized by the same transformation. In particular we have\n",
    "\n",
    "$$\n",
    "Q^\\dagger e^{-iHt}Q = \\begin{pmatrix} \n",
    "            e^{-i4t} & 0 & 0 & 0 \\\\\n",
    "            0 & 1 & 0 & 0 \\\\\n",
    "            0 & 0 & 1 & 0 \\\\\n",
    "            0 & 0 & 0 & 1\n",
    "           \\end{pmatrix}\n",
    "$$\n",
    "\n",
    "Which is just a [CPHASE00](http://pyquil.readthedocs.io/en/latest/gates.html) gate with an angle of $-4t$. The circuit to simulate these is then extremely simple:\n",
    "\n",
    "![](circuit.png \"Circuit for $K_4$ CTQW\")\n",
    "\n",
    "(Taken from paper above, $\\gamma = 1$ in our case.)"
   ]
  },
  {
   "cell_type": "raw",
   "metadata": {},
   "source": [
    "# Function for the continuous time quantum walk circuit on a complete graph\n",
    "def k_4_ctqw(t):\n",
    "    #   Change to diagonal basis\n",
    "    p = Program(H(0), H(1), X(0), X(1))\n",
    "\n",
    "    #    Time evolve\n",
    "    p += CPHASE00(-4*t, 0, 1)\n",
    "\n",
    "    #   Change back to computational basis\n",
    "    p += Program(X(0), X(1), H(0), H(1))\n",
    "\n",
    "    return p"
   ]
  },
  {
   "cell_type": "code",
   "execution_count": 7,
   "metadata": {},
   "outputs": [],
   "source": [
    "# Function for the continuous time quantum walk circuit on a complete graph\n",
    "def k_4_ctqw(t):\n",
    "    \"\"\"Returns a program implementing a continuous time quantum walk.\"\"\"\n",
    "    prog = pq.Program()\n",
    "\n",
    "    # Change to diagonal basis\n",
    "    prog.inst(H(0))\n",
    "    prog.inst(H(1))\n",
    "\n",
    "    # Time evolve\n",
    "    prog.inst(CPHASE00(-4*t, 0, 1))\n",
    "    \n",
    "    # Change back to comutational basis\n",
    "    prog.inst(H(0))\n",
    "    prog.inst(H(1))\n",
    "\n",
    "    return prog"
   ]
  },
  {
   "cell_type": "markdown",
   "metadata": {},
   "source": [
    "Let's compare the quantum walk with a classical random walk. The classical time evolution operator is $e^{-(\\mathcal{M} - I) t}$ where $\\mathcal{M}$ is the transition matrix of the graph.\n",
    "\n",
    "We choose as our initial condition $|\\psi(0)> = |0>$, that is the walker starts on the first node. Therefore, due to symmetry, the probability of occupation of all nodes besides $| 0 >$ is the same. "
   ]
  },
  {
   "cell_type": "code",
   "execution_count": 8,
   "metadata": {},
   "outputs": [],
   "source": [
    "# Stochastic transition matrix for classical walk\n",
    "M = A / np.sum(A, axis=0)\n",
    "\n",
    "# Set up time to simulate for\n",
    "tmax = 4\n",
    "steps = 40\n",
    "time = np.linspace(0, tmax, steps)\n",
    "\n",
    "# Arrays to hold quantum probabilities and classical probabilities at each time\n",
    "quantum_probs = np.zeros((len(time), 4))\n",
    "classical_probs = np.zeros((len(time), 4))"
   ]
  },
  {
   "cell_type": "code",
   "execution_count": 9,
   "metadata": {},
   "outputs": [],
   "source": [
    "from pyquil.api import WavefunctionSimulator\n",
    "\n",
    "qvm = WavefunctionSimulator()"
   ]
  },
  {
   "cell_type": "code",
   "execution_count": 10,
   "metadata": {},
   "outputs": [],
   "source": [
    "# Do the classical and quantum continuous-time walks\n",
    "\n",
    "for i, t in enumerate(time):\n",
    "    # Get a quantum program\n",
    "    prog = k_4_ctqw(t)  \n",
    "    \n",
    "    # Simulate the circuit and store the probabilites\n",
    "    wvf = qvm.wavefunction(prog)\n",
    "    vec = wvf.amplitudes\n",
    "    quantum_probs[i] = np.abs(vec)**2\n",
    "\n",
    "    # Do the classical continuous time walk\n",
    "    classical_ev = expm((M-np.eye(4))*t)\n",
    "    classical_probs[i] = classical_ev[:, 0]    \n",
    "    \n"
   ]
  },
  {
   "cell_type": "code",
   "execution_count": 11,
   "metadata": {},
   "outputs": [
    {
     "data": {
      "text/plain": [
       "[<matplotlib.lines.Line2D at 0x7f3137883d50>]"
      ]
     },
     "execution_count": 11,
     "metadata": {},
     "output_type": "execute_result"
    },
    {
     "data": {
      "image/png": "[encoded data removed]",
      "text/plain": [
       "<Figure size 432x288 with 2 Axes>"
      ]
     },
     "metadata": {
      "needs_background": "light"
     },
     "output_type": "display_data"
    }
   ],
   "source": [
    "f, (ax1, ax2) = plt.subplots(2, sharex=True, sharey=True)\n",
    "\n",
    "ax1.set_title(\"Quantum evolution\")\n",
    "ax1.set_ylabel('p')\n",
    "ax1.plot(time, quantum_probs[:, 0], label='Initial node')\n",
    "ax1.plot(time, quantum_probs[:, 1], label='Remaining nodes')\n",
    "ax1.legend(loc='center left', bbox_to_anchor=(1, 0.5))\n",
    "\n",
    "ax2.set_title(\"Classical evolution\")\n",
    "ax2.set_xlabel('t')\n",
    "ax2.set_ylabel('p')\n",
    "ax2.plot(time, classical_probs[:, 0], label='Initial node')\n",
    "ax2.plot(time, classical_probs[:, 1], label='Remaining nodes')"
   ]
  },
  {
   "cell_type": "code",
   "execution_count": null,
   "metadata": {},
   "outputs": [],
   "source": []
  },
  {
   "cell_type": "code",
   "execution_count": null,
   "metadata": {},
   "outputs": [],
   "source": []
  },
  {
   "cell_type": "code",
   "execution_count": null,
   "metadata": {},
   "outputs": [],
   "source": []
  }
 ],
 "metadata": {
  "kernelspec": {
   "display_name": "qcom",
   "language": "python",
   "name": "qcom"
  },
  "language_info": {
   "codemirror_mode": {
    "name": "ipython",
    "version": 3
   },
   "file_extension": ".py",
   "mimetype": "text/x-python",
   "name": "python",
   "nbconvert_exporter": "python",
   "pygments_lexer": "ipython3",
   "version": "3.7.4"
  }
 },
 "nbformat": 4,
 "nbformat_minor": 2
}
